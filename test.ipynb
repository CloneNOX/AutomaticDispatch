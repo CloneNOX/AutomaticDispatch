{
 "cells": [
  {
   "cell_type": "code",
   "execution_count": 1,
   "metadata": {},
   "outputs": [],
   "source": [
    "# coding: utf-8\n",
    "import os\n",
    "import xlrd\n",
    "import re\n",
    "import csv\n",
    "import fasttext\n",
    "import traceback\n",
    "import random\n",
    "import utils\n",
    "import json\n",
    "import jieba\n",
    "import pandas as pd\n",
    "from utils import fixText\n",
    "\n",
    "def getConfig():\n",
    "    config = {}\n",
    "    with open('./config.json', 'r') as f:\n",
    "        s = f.read()\n",
    "        config = json.loads(s)\n",
    "    return config"
   ]
  },
  {
   "cell_type": "code",
   "execution_count": 2,
   "metadata": {},
   "outputs": [
    {
     "name": "stderr",
     "output_type": "stream",
     "text": [
      "Building prefix dict from the default dictionary ...\n",
      "Loading model from cache /tmp/jieba.cache\n",
      "Loading model cost 0.728 seconds.\n",
      "Prefix dict has been built successfully.\n"
     ]
    }
   ],
   "source": [
    "with open('data/train.tsv', 'r') as f:\n",
    "    content = f.readlines()\n",
    "    random.shuffle(content)\n",
    "    train = content[0:len(content) // 5 * 4]\n",
    "    test = content[len(content) // 5 * 4:]\n",
    "    \n",
    "    with open('data/old_train_set.txt', 'w') as out:\n",
    "        for c in train:\n",
    "            res = re.search(r'__label__(.*)[^\\r\\n]', c)\n",
    "            label = c[res.span()[0]:res.span()[1]]\n",
    "            c = re.sub(r'__label__(.*)', '', c)\n",
    "            c = ''.join(re.split('\\t| |\\r|\\n', c))\n",
    "            c = fixText(c)\n",
    "            out.write(c + ' ' + label + '\\n')\n",
    "    with open('data/old_test_set.txt', 'w') as out:\n",
    "        for c in test:\n",
    "            res = re.search(r'__label__(.*)[^\\r\\n]', c)\n",
    "            label = c[res.span()[0]:res.span()[1]]\n",
    "            c = re.sub(r'__label__(.*)', '', c)\n",
    "            c = ''.join(re.split('\\t| |\\r|\\n', c))\n",
    "            c = fixText(c)\n",
    "            # c = ''.join(c.split(' '))\n",
    "            out.write(c + ' ' + label + '\\n')\n",
    "        "
   ]
  },
  {
   "cell_type": "code",
   "execution_count": 3,
   "metadata": {},
   "outputs": [
    {
     "name": "stderr",
     "output_type": "stream",
     "text": [
      "Read 4M words\n",
      "Number of words:  73112\n",
      "Number of labels: 43\n",
      "Progress: 100.0% words/sec/thread:  800887 lr:  0.000000 avg.loss:  0.437031 ETA:   0h 0m 0s\n"
     ]
    }
   ],
   "source": [
    "config = getConfig()\n",
    "model = fasttext.train_supervised(\n",
    "    input = './data/old_train_set.txt',\n",
    "    lr = config['lr'],\n",
    "    dim = config['hidden_dim'],\n",
    "    epoch = config['epoch']\n",
    ")"
   ]
  },
  {
   "cell_type": "code",
   "execution_count": 11,
   "metadata": {},
   "outputs": [
    {
     "name": "stdout",
     "output_type": "stream",
     "text": [
      "(('__label__街道',), array([0.90377563]))\n"
     ]
    }
   ],
   "source": [
    "total = 0\n",
    "true_tag = 0\n",
    "with open('./data/old_test_set.txt', 'r') as f:\n",
    "    content = f.readlines()\n",
    "    total = len(content)\n",
    "    for c in content:\n",
    "        res = re.search(r'__label__(.*)[^\\r\\n]', c)\n",
    "        label = c[res.span()[0]:res.span()[1]]\n",
    "        c = re.sub(r'__label__(.*)', '', c)\n",
    "        predict = model.predict(c[:-1])[0][0]\n",
    "        \n",
    "        print(model.predict(c[:-1]))\n",
    "        # print(predict, label)\n",
    "        if(predict == label):\n",
    "            true_tag += 1\n",
    "        break\n",
    "#print('tag level 1 accurate: {}% ({}/{})'.format(true_tag * 100 / total, true_tag, total))"
   ]
  }
 ],
 "metadata": {
  "kernelspec": {
   "display_name": "pt-py3.9",
   "language": "python",
   "name": "python3"
  },
  "language_info": {
   "codemirror_mode": {
    "name": "ipython",
    "version": 3
   },
   "file_extension": ".py",
   "mimetype": "text/x-python",
   "name": "python",
   "nbconvert_exporter": "python",
   "pygments_lexer": "ipython3",
   "version": "3.9.16"
  },
  "orig_nbformat": 4,
  "vscode": {
   "interpreter": {
    "hash": "6f737a19b7090e33edbc76acd0a86580e3257e24fc38a119320c8b10678394dd"
   }
  }
 },
 "nbformat": 4,
 "nbformat_minor": 2
}
