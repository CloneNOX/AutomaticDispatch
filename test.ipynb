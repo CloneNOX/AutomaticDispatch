{
 "cells": [
  {
   "cell_type": "code",
   "execution_count": 1,
   "metadata": {},
   "outputs": [],
   "source": [
    "# coding: utf-8\n",
    "import os\n",
    "import xlrd\n",
    "import re\n",
    "import csv\n",
    "import fasttext\n",
    "import traceback\n",
    "import random\n",
    "import utils\n",
    "import json\n",
    "import jieba\n",
    "import pandas as pd\n",
    "from utils import fixText\n",
    "\n",
    "def getConfig():\n",
    "    config = {}\n",
    "    with open('./config.json', 'r') as f:\n",
    "        s = f.read()\n",
    "        config = json.loads(s)\n",
    "    return config"
   ]
  },
  {
   "cell_type": "code",
   "execution_count": 2,
   "metadata": {},
   "outputs": [
    {
     "name": "stderr",
     "output_type": "stream",
     "text": [
      "Building prefix dict from the default dictionary ...\n",
      "Loading model from cache /tmp/jieba.cache\n",
      "Loading model cost 0.728 seconds.\n",
      "Prefix dict has been built successfully.\n"
     ]
    }
   ],
   "source": [
    "with open('data/train.tsv', 'r') as f:\n",
    "    content = f.readlines()\n",
    "    random.shuffle(content)\n",
    "    train = content[0:len(content) // 5 * 4]\n",
    "    test = content[len(content) // 5 * 4:]\n",
    "    \n",
    "    with open('data/old_train_set.txt', 'w') as out:\n",
    "        for c in train:\n",
    "            res = re.search(r'__label__(.*)[^\\r\\n]', c)\n",
    "            label = c[res.span()[0]:res.span()[1]]\n",
    "            c = re.sub(r'__label__(.*)', '', c)\n",
    "            c = ''.join(re.split('\\t| |\\r|\\n', c))\n",
    "            c = fixText(c)\n",
    "            out.write(c + ' ' + label + '\\n')\n",
    "    with open('data/old_test_set.txt', 'w') as out:\n",
    "        for c in test:\n",
    "            res = re.search(r'__label__(.*)[^\\r\\n]', c)\n",
    "            label = c[res.span()[0]:res.span()[1]]\n",
    "            c = re.sub(r'__label__(.*)', '', c)\n",
    "            c = ''.join(re.split('\\t| |\\r|\\n', c))\n",
    "            c = fixText(c)\n",
    "            # c = ''.join(c.split(' '))\n",
    "            out.write(c + ' ' + label + '\\n')\n",
    "        "
   ]
  },
  {
   "cell_type": "code",
   "execution_count": 3,
   "metadata": {},
   "outputs": [
    {
     "name": "stderr",
     "output_type": "stream",
     "text": [
      "Read 4M words\n",
      "Number of words:  73112\n",
      "Number of labels: 43\n",
      "Progress: 100.0% words/sec/thread:  800887 lr:  0.000000 avg.loss:  0.437031 ETA:   0h 0m 0s\n"
     ]
    }
   ],
   "source": [
    "config = getConfig()\n",
    "model = fasttext.train_supervised(\n",
    "    input = './data/old_train_set.txt',\n",
    "    lr = config['lr'],\n",
    "    dim = config['hidden_dim'],\n",
    "    epoch = config['epoch']\n",
    ")"
   ]
  },
  {
   "cell_type": "code",
   "execution_count": 11,
   "metadata": {},
   "outputs": [
    {
     "name": "stdout",
     "output_type": "stream",
     "text": [
      "(('__label__街道',), array([0.90377563]))\n"
     ]
    }
   ],
   "source": [
    "total = 0\n",
    "true_tag = 0\n",
    "with open('./data/old_test_set.txt', 'r') as f:\n",
    "    content = f.readlines()\n",
    "    total = len(content)\n",
    "    for c in content:\n",
    "        res = re.search(r'__label__(.*)[^\\r\\n]', c)\n",
    "        label = c[res.span()[0]:res.span()[1]]\n",
    "        c = re.sub(r'__label__(.*)', '', c)\n",
    "        predict = model.predict(c[:-1])[0][0]\n",
    "        \n",
    "        print(model.predict(c[:-1]))\n",
    "        # print(predict, label)\n",
    "        if(predict == label):\n",
    "            true_tag += 1\n",
    "        break\n",
    "#print('tag level 1 accurate: {}% ({}/{})'.format(true_tag * 100 / total, true_tag, total))"
   ]
  },
  {
   "cell_type": "code",
   "execution_count": 24,
   "metadata": {},
   "outputs": [],
   "source": [
    "import re\n",
    "def resetLabelLv2(label):\n",
    "    if(re.search(r'.+街(道)*', label)):\n",
    "        label = re.search(r'.+街(道)*', label).group()\n",
    "        if \"街道\" not in label:\n",
    "            label = label.replace(\"街\", \"街道\")\n",
    "        if(re.search(r'.+[区|市]', label)):\n",
    "            label = re.sub(re.search(r'.+[区|市]', label).group(), '', label)\n",
    "    return label\n",
    "\n",
    "def resetLabelLv3(label):\n",
    "    if(re.search(r'[\\u4e00-\\u9fa50-9]+街(道)*', label)):\n",
    "        label = re.search(r'街(道)*.*', label).group()\n",
    "        label = re.sub(r'[(|（][\\u4e00-\\u9fa50-9]*[)|）]', '', label)\n",
    "    return label\n"
   ]
  },
  {
   "cell_type": "code",
   "execution_count": 27,
   "metadata": {},
   "outputs": [
    {
     "name": "stdout",
     "output_type": "stream",
     "text": [
      "鹤洞街道\n",
      "街办事处假装有这个分队测试一下括号外\n"
     ]
    }
   ],
   "source": [
    "addr = '广州市白云区区鹤洞街办事处假装有这个分队(测试一下括号内）测试一下括号外（测试一下多个括号）'\n",
    "addr2 = resetLabelLv2(addr)\n",
    "addr3 = resetLabelLv3(addr)\n",
    "print(addr2)\n",
    "print(addr3)\n"
   ]
  },
  {
   "cell_type": "code",
   "execution_count": 1,
   "metadata": {},
   "outputs": [],
   "source": [
    "import json\n",
    "from utils import resetLabelLv2, resetLabelLv3\n",
    "with open('./data/train_set.json', 'r') as f:\n",
    "    s = f.read()\n",
    "    data_set = json.loads(s)\n",
    "label1 = {}\n",
    "label2 = {}\n",
    "label3 = {}\n",
    "\n",
    "for id in list(data_set.keys()):\n",
    "    if data_set[id]['tag_level_1'] in label1:\n",
    "        label1[data_set[id]['tag_level_1']] += 1\n",
    "    else:\n",
    "        label1[data_set[id]['tag_level_1']] = 1\n",
    "\n",
    "    tag = resetLabelLv2(data_set[id]['tag_level_2'])\n",
    "    if tag in label2:\n",
    "        label2[tag] += 1\n",
    "    else:\n",
    "        label2[tag] = 1\n",
    "\n",
    "    tag = resetLabelLv3(data_set[id]['tag_level_3'])\n",
    "    if tag in label3:\n",
    "        label3[tag] += 1\n",
    "    else:\n",
    "        label3[tag] = 1"
   ]
  },
  {
   "cell_type": "code",
   "execution_count": 4,
   "metadata": {
    "slideshow": {
     "slide_type": "slide"
    }
   },
   "outputs": [
    {
     "name": "stdout",
     "output_type": "stream",
     "text": [
      "87\n",
      "{'荔湾区政府': 144238, '广州地铁集团': 271, '番禺区政府': 244, '天河区政府': 536, '广州市自来水公司': 430, '市卫生健康委': 1424, '市交通运输局': 390, '白云区政府': 780, '广州商贸投资控股集团有限公司': 5, '海珠区政府': 638, '越秀区政府': 1160, '市公安局': 572, '花都区政府': 132, '珠江实业集团': 84, '广州市税务局': 230, '中国移动广州分公司': 10, '市住房城乡建设局': 243, '黄埔区政府': 137, '穗康码工作专班': 120, '市民政局': 37, '市人力资源社会保障局': 132, '增城区政府': 72, '岭南商旅集团': 3, '市燃气集团': 35, '市排水公司': 108, '市邮政管理局': 117, '广州市公共交通集团有限公司': 78, '南沙区政府': 136, '广州交投集团': 27, '市规划和自然资源局': 68, '市教育局': 112, '广州供电局有限公司': 240, '市来穗人员服务管理局': 41, '市医保局': 71, '市市场监管局': 14, '市国资委': 29, '中国联通广州分公司': 6, '从化区政府': 14, '市财政局': 2, '市水务局': 5, '市地方金融监管局': 45, '广州市消费者委员会': 4, '广州市烟草专卖局': 7, '中国电信广州分公司': 18, '市残联': 6, '市政务服务数据管理局': 8, '12345热线管理机构': 33, '农业银行广东省分行': 4, '市司法局': 4, '市城市管理综合执法局': 25, '市林业园林局': 14, '市总工会': 10, '越秀集团': 19, '广州市广播电视台': 2, '市发展改革委': 6, '广州轻工工贸集团': 17, '广州海事局': 2, '市体育局': 5, '市农业农村局': 1, '广州环保投资集团': 6, '市工业和信息化局': 1, '中国广电广州网络股份有限公司': 7, '市供销合作总社': 5, '市消防支队': 2, '工商银行广东省分行': 3, '市建筑集团': 9, '市港务局': 5, '市文化广电旅游局': 10, '广州海关': 5, '市生态环境局': 2, '市水投集团': 7, '市商务局': 10, '市新闻出版局（市版权局）': 3, '广州日报': 2, '市气象局': 1, '广州住房公积金管理中心': 5, '市政府外办': 2, '广州港集团': 2, '市民防办': 1, '市城投集团': 1, '建设银行广东省分行': 2, '广州交易集团有限公司（广州公共资源交易中心）': 2, '市协作办公室': 1, '广东有线广播电视网络有限公司': 2, '团市委': 1, '中国银行广东省分行': 1, '市应急管理局': 1}\n"
     ]
    }
   ],
   "source": [
    "print(len(label1))\n",
    "print(label1)"
   ]
  },
  {
   "cell_type": "code",
   "execution_count": 4,
   "metadata": {},
   "outputs": [
    {
     "name": "stderr",
     "output_type": "stream",
     "text": [
      "Warning : `load_model` does not return WordVectorModel or SupervisedModel any more, but a `FastText` object which is very similar.\n"
     ]
    },
    {
     "data": {
      "text/plain": [
       "146222"
      ]
     },
     "execution_count": 4,
     "metadata": {},
     "output_type": "execute_result"
    }
   ],
   "source": [
    "import fasttext\n",
    "model = fasttext.FastText.load_model('./model/model_for_label_2.model')\n",
    "len(model.words)"
   ]
  }
 ],
 "metadata": {
  "kernelspec": {
   "display_name": "pt-py3.9",
   "language": "python",
   "name": "python3"
  },
  "language_info": {
   "codemirror_mode": {
    "name": "ipython",
    "version": 3
   },
   "file_extension": ".py",
   "mimetype": "text/x-python",
   "name": "python",
   "nbconvert_exporter": "python",
   "pygments_lexer": "ipython3",
   "version": "3.9.16"
  },
  "orig_nbformat": 4,
  "vscode": {
   "interpreter": {
    "hash": "6f737a19b7090e33edbc76acd0a86580e3257e24fc38a119320c8b10678394dd"
   }
  }
 },
 "nbformat": 4,
 "nbformat_minor": 2
}
