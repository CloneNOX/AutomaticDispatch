{
 "cells": [
  {
   "attachments": {},
   "cell_type": "markdown",
   "metadata": {},
   "source": [
    "#### TODO：尝试拆分句子为短句"
   ]
  },
  {
   "cell_type": "code",
   "execution_count": 1,
   "metadata": {},
   "outputs": [],
   "source": [
    "import fasttext\n",
    "import os\n",
    "import json\n",
    "import re\n",
    "from utils import fixText, resetLabelLv2, resetLabelLv3\n",
    "from model import MyFastText\n",
    "\n",
    "TEMP_DIR = './tmp/'\n",
    "\n",
    "def getConfig():\n",
    "    config = {}\n",
    "    with open('./config.json', 'r') as f:\n",
    "        s = f.read()\n",
    "        config = json.loads(s)\n",
    "    return config\n",
    "\n",
    "def split_text(text):\n",
    "    splited_text = re.split(r'\\n+|\\r+|\\r\\n|<br>', text)\n",
    "    while '' in splited_text:\n",
    "        splited_text.remove('')\n",
    "    return splited_text\n",
    "\n",
    "config = getConfig()"
   ]
  },
  {
   "cell_type": "code",
   "execution_count": 2,
   "metadata": {},
   "outputs": [
    {
     "name": "stderr",
     "output_type": "stream",
     "text": [
      "Building prefix dict from the default dictionary ...\n",
      "Loading model from cache /tmp/jieba.cache\n",
      "Loading model cost 0.785 seconds.\n",
      "Prefix dict has been built successfully.\n"
     ]
    },
    {
     "name": "stdout",
     "output_type": "stream",
     "text": [
      "训练集2拆分后共1285245条文本\n"
     ]
    }
   ],
   "source": [
    "# 读入数据集的json文件，处理成fasttext接口使用的\"文本__label__标签\"形式，以txt文件存储\n",
    "def readDataSet(config):\n",
    "    set1 = []\n",
    "    with open(config['data_path'] + config['dataset_label_1_name'], 'r') as f:\n",
    "        s = f.read()\n",
    "        data_set = json.loads(s)\n",
    "        for id in list(data_set.keys()):\n",
    "            text = data_set[id]['text']\n",
    "            splited_text = split_text(text)\n",
    "            for text in splited_text:\n",
    "                set1.append('__label__' + data_set[id]['label_level_1'] + ' ' + fixText(text))\n",
    "    set2 = []\n",
    "    with open(config['data_path'] + config['dataset_label_2_name'], 'r') as f:\n",
    "        s = f.read()\n",
    "        data_set = json.loads(s)\n",
    "        for id in list(data_set.keys()):\n",
    "            text = data_set[id]['text']\n",
    "            splited_text = split_text(text)\n",
    "            for text in splited_text:\n",
    "                set2.append('__label__' + data_set[id]['label_level_2'] + ' ' + fixText(text))\n",
    "    set3 = []\n",
    "    with open(config['data_path'] + config['dataset_label_3_name'], 'r') as f:\n",
    "        s = f.read()\n",
    "        data_set = json.loads(s)\n",
    "        for id in list(data_set.keys()):\n",
    "            text = data_set[id]['text']\n",
    "            splited_text = split_text(text)\n",
    "            for text in splited_text:\n",
    "                set3.append('__label__' + data_set[id]['label_level_3'] + ' ' + fixText(text))\n",
    "        \n",
    "    try:\n",
    "        os.mkdir(TEMP_DIR)\n",
    "    except:\n",
    "        pass\n",
    "    with open(TEMP_DIR + 'set1.txt', 'w') as f:\n",
    "        print('训练集1拆分后共{}条文本'.format(len(set1)))\n",
    "        for l in set1:\n",
    "            f.write(l + '\\n')\n",
    "    with open(TEMP_DIR + 'set2.txt', 'w') as f:\n",
    "        print('训练集2拆分后共{}条文本'.format(len(set2)))\n",
    "        for l in set2:\n",
    "            f.write(l + '\\n')\n",
    "    with open(TEMP_DIR + 'set3.txt', 'w') as f:\n",
    "        print('训练集3拆分后共{}条文本'.format(len(set2)))\n",
    "        for l in set3:\n",
    "            f.write(l + '\\n')\n",
    "\n",
    "readDataSet(config)"
   ]
  },
  {
   "cell_type": "code",
   "execution_count": 3,
   "metadata": {},
   "outputs": [
    {
     "name": "stderr",
     "output_type": "stream",
     "text": [
      "Read 2M words\n",
      "Number of words:  61624\n",
      "Number of labels: 85\n",
      "Progress: 100.0% words/sec/thread:  193551 lr:  0.000000 avg.loss:  1.508976 ETA:   0h 0m 0s\n"
     ]
    }
   ],
   "source": [
    "model_label_1 = MyFastText()\n",
    "model_label_1.train(\n",
    "    input = TEMP_DIR + 'set1.txt',\n",
    "    lr = config['lr'],\n",
    "    dim = config['hidden_dim'],\n",
    "    epoch = config['epoch'],\n",
    ")\n",
    "model_label_1.save(config['model_path'] + config['model_label_1_name'])"
   ]
  },
  {
   "cell_type": "code",
   "execution_count": 3,
   "metadata": {},
   "outputs": [
    {
     "name": "stderr",
     "output_type": "stream",
     "text": [
      "Read 20M words\n",
      "Number of words:  233142\n",
      "Number of labels: 453\n",
      "Progress:   1.1% words/sec/thread:   37475 lr:  0.098895 avg.loss:  2.244689 ETA:   0h31m31s"
     ]
    }
   ],
   "source": [
    "model_label_2 = MyFastText()\n",
    "model_label_2.train(\n",
    "    input = TEMP_DIR + 'set2.txt',\n",
    "    lr = config['lr'],\n",
    "    dim = config['hidden_dim'],\n",
    "    epoch = config['epoch']\n",
    ")\n",
    "model_label_2.save(config['model_path'] + config['model_label_2_name'])"
   ]
  },
  {
   "cell_type": "code",
   "execution_count": null,
   "metadata": {},
   "outputs": [],
   "source": [
    "model_label_3 = MyFastText()\n",
    "model_label_3.train(\n",
    "    input = TEMP_DIR + 'set3.txt',\n",
    "    lr = config['lr'],\n",
    "    dim = config['hidden_dim'],\n",
    "    epoch = config['epoch']\n",
    ")\n",
    "model_label_3.save(config['model_path'] + config['model_label_2_name'])"
   ]
  },
  {
   "cell_type": "code",
   "execution_count": 9,
   "metadata": {},
   "outputs": [
    {
     "name": "stdout",
     "output_type": "stream",
     "text": [
      "[Errno 2] No such file or directory: './tmp/set1.txt'\n"
     ]
    }
   ],
   "source": [
    "try:\n",
    "    os.remove(TEMP_DIR + 'set1.txt')\n",
    "    os.remove(TEMP_DIR + 'set2.txt')\n",
    "    os.remove(TEMP_DIR + 'set3.txt')\n",
    "    os.removedirs(TEMP_DIR)\n",
    "except Exception as e:\n",
    "    print(e)"
   ]
  },
  {
   "cell_type": "code",
   "execution_count": 2,
   "metadata": {},
   "outputs": [
    {
     "name": "stderr",
     "output_type": "stream",
     "text": [
      "Warning : `load_model` does not return WordVectorModel or SupervisedModel any more, but a `FastText` object which is very similar.\n",
      "Warning : `load_model` does not return WordVectorModel or SupervisedModel any more, but a `FastText` object which is very similar.\n",
      "Warning : `load_model` does not return WordVectorModel or SupervisedModel any more, but a `FastText` object which is very similar.\n"
     ]
    }
   ],
   "source": [
    "model_label1 = MyFastText()\n",
    "model_label1.load_model('./model/model_for_label_1.model')\n",
    "model_label2 = MyFastText()\n",
    "model_label2.load_model('./model/model_for_label_2.model')\n",
    "model_label3 = MyFastText()\n",
    "model_label3.load_model('./model/model_for_label_3.model')"
   ]
  },
  {
   "cell_type": "code",
   "execution_count": 3,
   "metadata": {},
   "outputs": [
    {
     "name": "stderr",
     "output_type": "stream",
     "text": [
      "Building prefix dict from the default dictionary ...\n",
      "Loading model from cache /tmp/jieba.cache\n",
      "Loading model cost 0.743 seconds.\n",
      "Prefix dict has been built successfully.\n"
     ]
    },
    {
     "name": "stdout",
     "output_type": "stream",
     "text": [
      "label level 1 accurate: 91.56013566397078% (35095/38330)\n",
      "tag level 2 accurate: 70.33133315940516% (26958/38330)\n",
      "tag level 3 accurate: 60.0% (22998/38330)\n"
     ]
    }
   ],
   "source": [
    "with open(config['data_path'] + 'test_set.json', 'r') as f:\n",
    "    content = json.loads(f.read())\n",
    "\n",
    "total = 0\n",
    "true_lable_1 = 0\n",
    "true_lable_2 = 0\n",
    "true_lable_3 = 0\n",
    "\n",
    "# label_1_dict = {}\n",
    "# label_2_dict = {}\n",
    "# label_3_dict = {}\n",
    "for id in content.keys():\n",
    "    text = content[id]['text']\n",
    "    \n",
    "    label_1 = content[id]['label_level_1']\n",
    "    label_2 = resetLabelLv2(content[id]['label_level_2'])\n",
    "    label_3 = resetLabelLv3(content[id]['label_level_3'])\n",
    "\n",
    "    # if label_1 in label_1_dict:\n",
    "    #     label_1_dict[label_1][0] += 1\n",
    "    # else:\n",
    "    #     label_1_dict[label_1] = [1, 0]\n",
    "\n",
    "    # if label_2 in label_2_dict:\n",
    "    #     label_2_dict[label_2][0] += 1\n",
    "    # else:\n",
    "    #     label_2_dict[label_2] = [1, 0]\n",
    "    \n",
    "    \n",
    "    predict_1 = model_label1.predict(text)[0][0]\n",
    "    predict_2 = model_label2.predict(text)[0][0]\n",
    "    predict_3 = model_label3.predict(text)[0][0]\n",
    "\n",
    "    if(predict_1.replace('__label__', '') == label_1):\n",
    "        true_lable_1 += 1\n",
    "        # label_1_dict[label_1][1] += 1\n",
    "    if(predict_2.replace('__label__', '') == label_2):\n",
    "        true_lable_2 += 1\n",
    "        # label_2_dict[label_2][1] += 1\n",
    "    if(predict_3.replace('__label__', '') == label_3):\n",
    "        true_lable_3 += 1\n",
    "    total += 1\n",
    "print('label level 1 accurate: {}% ({}/{})'.format(true_lable_1 * 100 / total, true_lable_1, total))\n",
    "print('tag level 2 accurate: {}% ({}/{})'.format(true_lable_2 * 100 / total, true_lable_2, total))\n",
    "print('tag level 3 accurate: {}% ({}/{})'.format(true_lable_3 * 100 / total, true_lable_3, total))"
   ]
  },
  {
   "cell_type": "code",
   "execution_count": 4,
   "metadata": {},
   "outputs": [
    {
     "name": "stdout",
     "output_type": "stream",
     "text": [
      "label level 1 accurate: 92.06626663188104% (35289/38330)\n",
      "tag level 2 accurate: 66.3866423167232% (25446/38330)\n",
      "tag level 3 accurate: 52.783720323506394% (20232/38330)\n"
     ]
    }
   ],
   "source": [
    "with open(config['data_path'] + 'test_set.json', 'r') as f:\n",
    "    content = json.loads(f.read())\n",
    "\n",
    "total = 0\n",
    "true_lable_1 = 0\n",
    "true_lable_2 = 0\n",
    "true_lable_3 = 0\n",
    "for id in content.keys():\n",
    "    text = content[id]['text']\n",
    "    \n",
    "    label_1 = content[id]['label_level_1']\n",
    "    label_2 = resetLabelLv2(content[id]['label_level_2'])\n",
    "    label_3 = resetLabelLv3(content[id]['label_level_3'])\n",
    "    \n",
    "    \n",
    "    predict_1 = model_label1.split_and_predict(text)[0][0]\n",
    "    predict_2 = model_label2.split_and_predict(text)[0][0]\n",
    "    predict_3 = model_label3.split_and_predict(text)[0][0]\n",
    "\n",
    "    if(predict_1.replace('__label__', '') == label_1):\n",
    "        true_lable_1 += 1\n",
    "    if(predict_2.replace('__label__', '') == label_2):\n",
    "        true_lable_2 += 1\n",
    "    if(predict_3.replace('__label__', '') == label_3):\n",
    "        true_lable_3 += 1\n",
    "    total += 1\n",
    "print('label level 1 accurate: {}% ({}/{})'.format(true_lable_1 * 100 / total, true_lable_1, total))\n",
    "print('tag level 2 accurate: {}% ({}/{})'.format(true_lable_2 * 100 / total, true_lable_2, total))\n",
    "print('tag level 3 accurate: {}% ({}/{})'.format(true_lable_3 * 100 / total, true_lable_3, total))"
   ]
  },
  {
   "attachments": {},
   "cell_type": "markdown",
   "metadata": {},
   "source": [
    "lr = 0.1 epoch = 25"
   ]
  },
  {
   "attachments": {},
   "cell_type": "markdown",
   "metadata": {},
   "source": [
    "标签数量"
   ]
  }
 ],
 "metadata": {
  "kernelspec": {
   "display_name": "pt-py3.9",
   "language": "python",
   "name": "python3"
  },
  "language_info": {
   "codemirror_mode": {
    "name": "ipython",
    "version": 3
   },
   "file_extension": ".py",
   "mimetype": "text/x-python",
   "name": "python",
   "nbconvert_exporter": "python",
   "pygments_lexer": "ipython3",
   "version": "3.9.16"
  },
  "orig_nbformat": 4,
  "vscode": {
   "interpreter": {
    "hash": "6f737a19b7090e33edbc76acd0a86580e3257e24fc38a119320c8b10678394dd"
   }
  }
 },
 "nbformat": 4,
 "nbformat_minor": 2
}
