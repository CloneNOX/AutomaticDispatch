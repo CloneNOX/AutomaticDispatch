{
 "cells": [
  {
   "cell_type": "code",
   "execution_count": 1,
   "metadata": {},
   "outputs": [],
   "source": [
    "import fasttext\n",
    "import os\n",
    "import json\n",
    "from utils import fixText\n",
    "\n",
    "TEMP_DIR = './tmp/'\n",
    "\n",
    "def getConfig():\n",
    "    config = {}\n",
    "    with open('./config.json', 'r') as f:\n",
    "        s = f.read()\n",
    "        config = json.loads(s)\n",
    "    return config\n",
    "\n",
    "# 读入数据集的json文件，处理成fasttext接口使用的\"文本__label__标签\"形式，以txt文件存储\n",
    "def readDataSet(path):\n",
    "    with open(path, 'r') as f:\n",
    "        s = f.read()\n",
    "        data_set = json.loads(s)\n",
    "    set1 = []\n",
    "    set2 = []\n",
    "    set3 = []\n",
    "    for id in list(data_set.keys()):\n",
    "        set1.append('__label__' + data_set[id]['tag_level_1'] + ' ' + fixText(data_set[id]['text']))\n",
    "        set2.append('__label__' + data_set[id]['tag_level_2'] + ' ' + fixText(data_set[id]['text']))\n",
    "        set3.append('__label__' + data_set[id]['tag_level_3'] + ' ' + fixText(data_set[id]['text']))\n",
    "    try:\n",
    "        os.mkdir(TEMP_DIR)\n",
    "    except:\n",
    "        pass\n",
    "    with open(TEMP_DIR + 'set1.txt', 'w') as f:\n",
    "        for l in set1:\n",
    "            f.write(l + '\\n')\n",
    "    with open(TEMP_DIR + 'set2.txt', 'w') as f:\n",
    "        for l in set2:\n",
    "            f.write(l + '\\n')\n",
    "    with open(TEMP_DIR + 'set3.txt', 'w') as f:\n",
    "        for l in set3:\n",
    "            f.write(l + '\\n')"
   ]
  },
  {
   "cell_type": "code",
   "execution_count": 2,
   "metadata": {},
   "outputs": [
    {
     "name": "stderr",
     "output_type": "stream",
     "text": [
      "Building prefix dict from the default dictionary ...\n",
      "Loading model from cache /tmp/jieba.cache\n",
      "Loading model cost 0.676 seconds.\n",
      "Prefix dict has been built successfully.\n",
      "Read 16M words\n",
      "Number of words:  131298\n",
      "Number of labels: 86\n",
      "Progress: 100.0% words/sec/thread:  560173 lr:  0.000000 avg.loss:  0.378137 ETA:   0h 0m 0s\n",
      "Read 16M words\n",
      "Number of words:  131298\n",
      "Number of labels: 463\n",
      "Progress: 100.0% words/sec/thread:  176298 lr:  0.000000 avg.loss:  1.296705 ETA:   0h 0m 0s 6m13s 1.369128 ETA:   0h 1m49s 86.1% words/sec/thread:  173614 lr:  0.001385 avg.loss:  1.356292 ETA:   0h 1m29s lr:  0.000830 avg.loss:  1.327033 ETA:   0h 0m53s words/sec/thread:  174500 lr:  0.000810 avg.loss:  1.325837 ETA:   0h 0m51ss avg.loss:  1.301190 ETA:   0h 0m 7s 99.0% words/sec/thread:  176066 lr:  0.000103 avg.loss:  1.301037 ETA:   0h 0m 6s  0h 0m 5sh 0m 3s 176268 lr:  0.000022 avg.loss:  1.297661 ETA:   0h 0m 1s\n",
      "Read 16M words\n",
      "Number of words:  131311\n",
      "Number of labels: 1164\n",
      "Progress:  67.5% words/sec/thread:   92997 lr:  0.003249 avg.loss:  3.153780 ETA:   0h 6m31s% words/sec/thread:   87207 lr:  0.009626 avg.loss:  7.229286 ETA:   0h20m36s% words/sec/thread:   87002 lr:  0.009620 avg.loss:  7.175726 ETA:   0h20m40s ETA:   0h20m39s ETA:   0h20m17s% words/sec/thread:   86876 lr:  0.009408 avg.loss:  6.301719 ETA:   0h20m13s words/sec/thread:   86881 lr:  0.009406 avg.loss:  6.298970 ETA:   0h20m12s% words/sec/thread:   88680 lr:  0.008155 avg.loss:  4.608298 ETA:   0h17m10s 3.664545 ETA:   0h11m47s words/sec/thread:   92190 lr:  0.005795 avg.loss:  3.658074 ETA:   0h11m43sh10m38s 62.2% words/sec/thread:   92602 lr:  0.003776 avg.loss:  3.236854 ETA:   0h 7m36s ETA:   0h 7m23s"
     ]
    }
   ],
   "source": [
    "config = getConfig()\n",
    "readDataSet(config['data_path'] + config['data_set_name'])\n",
    "model_label1 = fasttext.train_supervised(\n",
    "    input = TEMP_DIR + '',\n",
    "    lr = config['lr'],\n",
    "    dim = config['hidden_dim'],\n",
    "    epoch = config['epoch']\n",
    ")\n",
    "model_label2 = fasttext.train_supervised(\n",
    "    input = TEMP_DIR + 'set2.txt',\n",
    "    lr = config['lr'],\n",
    "    dim = config['hidden_dim'],\n",
    "    epoch = config['epoch']\n",
    ")\n",
    "model_label3 = fasttext.train_supervised(\n",
    "    input = TEMP_DIR + 'set3.txt',\n",
    "    lr = config['lr'],\n",
    "    dim = config['hidden_dim'],\n",
    "    epoch = config['epoch']\n",
    ")\n",
    "\n",
    "try:\n",
    "    os.remove(TEMP_DIR + 'set1.txt')\n",
    "    os.remove(TEMP_DIR + 'set2.txt')\n",
    "    os.remove(TEMP_DIR + 'set3.txt')\n",
    "    os.removedirs(TEMP_DIR)  \n",
    "except:\n",
    "    pass"
   ]
  },
  {
   "attachments": {},
   "cell_type": "markdown",
   "metadata": {},
   "source": [
    "lr = 0.1, epoch = 50"
   ]
  },
  {
   "cell_type": "code",
   "execution_count": 3,
   "metadata": {},
   "outputs": [
    {
     "name": "stdout",
     "output_type": "stream",
     "text": [
      "tag level 1 accurate: 93.85076963214192% (35973/38330)\n",
      "tag level 2 accurate: 74.5995303939473% (28594/38330)\n",
      "tag level 3 accurate: 65.4056874510827% (25070/38330)\n"
     ]
    }
   ],
   "source": [
    "with open(config['data_path'] + 'test_set.json', 'r') as f:\n",
    "    content = json.loads(f.read())\n",
    "\n",
    "total = 0\n",
    "true_tag1 = 0\n",
    "true_tag2 = 0\n",
    "true_tag3 = 0\n",
    "for id in content.keys():\n",
    "    total += 1\n",
    "    text = content[id]['text']\n",
    "    text = fixText(text)\n",
    "    tag1 = content[id]['tag_level_1']\n",
    "    tag2 = content[id]['tag_level_2']\n",
    "    tag3 = content[id]['tag_level_3']\n",
    "    predict1 = model_tag1.predict(text)[0][0]\n",
    "    predict2 = model_tag2.predict(text)[0][0]\n",
    "    predict3 = model_tag3.predict(text)[0][0]\n",
    "    if(predict1.replace('__label__', '') == tag1):\n",
    "        true_tag1 += 1\n",
    "    if(predict2.replace('__label__', '') == tag2):\n",
    "        true_tag2 += 1\n",
    "    if(predict3.replace('__label__', '') == tag3):\n",
    "        true_tag3 += 1\n",
    "print('tag level 1 accurate: {}% ({}/{})'.format(true_tag1 * 100 / total, true_tag1, total))\n",
    "print('tag level 2 accurate: {}% ({}/{})'.format(true_tag2 * 100 / total, true_tag2, total))\n",
    "print('tag level 3 accurate: {}% ({}/{})'.format(true_tag3 * 100 / total, true_tag3, total))"
   ]
  },
  {
   "attachments": {},
   "cell_type": "markdown",
   "metadata": {},
   "source": [
    "lr = 0.01 epoch = 20"
   ]
  },
  {
   "cell_type": "code",
   "execution_count": 3,
   "metadata": {},
   "outputs": [
    {
     "name": "stdout",
     "output_type": "stream",
     "text": [
      "tag level 1 accurate: 94.004696060527% (36032/38330)\n",
      "tag level 2 accurate: 63.04200365249152% (24164/38330)\n",
      "tag level 3 accurate: 44.29689538220715% (16979/38330)\n"
     ]
    }
   ],
   "source": [
    "with open(config['data_path'] + 'test_set.json', 'r') as f:\n",
    "    content = json.loads(f.read())\n",
    "\n",
    "total = 0\n",
    "true_tag1 = 0\n",
    "true_tag2 = 0\n",
    "true_tag3 = 0\n",
    "for id in content.keys():\n",
    "    total += 1\n",
    "    text = content[id]['text']\n",
    "    text = fixText(text)\n",
    "    tag1 = content[id]['tag_level_1']\n",
    "    tag2 = content[id]['tag_level_2']\n",
    "    tag3 = content[id]['tag_level_3']\n",
    "    predict1 = model_tag1.predict(text)[0][0]\n",
    "    predict2 = model_tag2.predict(text)[0][0]\n",
    "    predict3 = model_tag3.predict(text)[0][0]\n",
    "    if(predict1.replace('__label__', '') == tag1):\n",
    "        true_tag1 += 1\n",
    "    if(predict2.replace('__label__', '') == tag2):\n",
    "        true_tag2 += 1\n",
    "    if(predict3.replace('__label__', '') == tag3):\n",
    "        true_tag3 += 1\n",
    "print('tag level 1 accurate: {}% ({}/{})'.format(true_tag1 * 100 / total, true_tag1, total))\n",
    "print('tag level 2 accurate: {}% ({}/{})'.format(true_tag2 * 100 / total, true_tag2, total))\n",
    "print('tag level 3 accurate: {}% ({}/{})'.format(true_tag3 * 100 / total, true_tag3, total))"
   ]
  },
  {
   "attachments": {},
   "cell_type": "markdown",
   "metadata": {},
   "source": [
    "lr = 0.001 结果"
   ]
  },
  {
   "cell_type": "code",
   "execution_count": 4,
   "metadata": {},
   "outputs": [
    {
     "name": "stdout",
     "output_type": "stream",
     "text": [
      "tag level 1 accurate: 93.85076963214192% (35973/38330)\n",
      "tag level 2 accurate: 74.5995303939473% (28594/38330)\n",
      "tag level 3 accurate: 65.4056874510827% (25070/38330)\n"
     ]
    }
   ],
   "source": [
    "with open(config['data_path'] + 'test_set.json', 'r') as f:\n",
    "    content = json.loads(f.read())\n",
    "\n",
    "total = 0\n",
    "true_tag1 = 0\n",
    "true_tag2 = 0\n",
    "true_tag3 = 0\n",
    "for id in content.keys():\n",
    "    total += 1\n",
    "    text = content[id]['text']\n",
    "    text = fixText(text)\n",
    "    tag1 = content[id]['tag_level_1']\n",
    "    tag2 = content[id]['tag_level_2']\n",
    "    tag3 = content[id]['tag_level_3']\n",
    "    predict1 = model_label1.predict(text)[0][0]\n",
    "    predict2 = model_label2.predict(text)[0][0]\n",
    "    predict3 = model_label3.predict(text)[0][0]\n",
    "    if(predict1.replace('__label__', '') == tag1):\n",
    "        true_tag1 += 1\n",
    "    if(predict2.replace('__label__', '') == tag2):\n",
    "        true_tag2 += 1\n",
    "    if(predict3.replace('__label__', '') == tag3):\n",
    "        true_tag3 += 1\n",
    "print('tag level 1 accurate: {}% ({ }/{})'.format(true_tag1 * 100 / total, true_tag1, total))\n",
    "print('tag level 2 accurate: {}% ({}/{})'.format(true_tag2 * 100 / total, true_tag2, total))\n",
    "print('tag level 3 accurate: {}% ({}/{})'.format(true_tag3 * 100 / total, true_tag3, total))"
   ]
  },
  {
   "attachments": {},
   "cell_type": "markdown",
   "metadata": {},
   "source": [
    "lr = 0.01 epoch = 20"
   ]
  },
  {
   "cell_type": "code",
   "execution_count": 3,
   "metadata": {},
   "outputs": [
    {
     "name": "stdout",
     "output_type": "stream",
     "text": [
      "tag level 1 accurate: 94.004696060527% (36032/38330)\n",
      "tag level 2 accurate: 63.04200365249152% (24164/38330)\n",
      "tag level 3 accurate: 44.29689538220715% (16979/38330)\n"
     ]
    }
   ],
   "source": [
    "with open(config['data_path'] + 'test_set.json', 'r') as f:\n",
    "    content = json.loads(f.read())\n",
    "\n",
    "total = 0\n",
    "true_tag1 = 0\n",
    "true_tag2 = 0\n",
    "true_tag3 = 0\n",
    "for id in content.keys():\n",
    "    total += 1\n",
    "    text = content[id]['text']\n",
    "    text = fixText(text)\n",
    "    tag1 = content[id]['tag_level_1']\n",
    "    tag2 = content[id]['tag_level_2']\n",
    "    tag3 = content[id]['tag_level_3']\n",
    "    predict1 = model_label1.predict(text)[0][0]\n",
    "    predict2 = model_label2.predict(text)[0][0]\n",
    "    predict3 = model_label3.predict(text)[0][0]\n",
    "    if(predict1.replace('__label__', '') == tag1):\n",
    "        true_tag1 += 1\n",
    "    if(predict2.replace('__label__', '') == tag2):\n",
    "        true_tag2 += 1\n",
    "    if(predict3.replace('__label__', '') == tag3):\n",
    "        true_tag3 += 1\n",
    "print('tag level 1 accurate: {}% ({}/{})'.format(true_tag1 * 100 / total, true_tag1, total))\n",
    "print('tag level 2 accurate: {}% ({}/{})'.format(true_tag2 * 100 / total, true_tag2, total))\n",
    "print('tag level 3 accurate: {}% ({}/{})'.format(true_tag3 * 100 / total, true_tag3, total))"
   ]
  },
  {
   "attachments": {},
   "cell_type": "markdown",
   "metadata": {},
   "source": [
    "lr = 0.001 结果"
   ]
  },
  {
   "cell_type": "code",
   "execution_count": 7,
   "metadata": {},
   "outputs": [
    {
     "name": "stdout",
     "output_type": "stream",
     "text": [
      "tag level 1 accurate: 93.98121575789199%(36023/38330)\n",
      "tag level 2 accurate: 35.330028698147665%(13542/38330)\n",
      "tag level 3 accurate: 25.927471954082964%(9938/38330)\n"
     ]
    }
   ],
   "source": [
    "with open(config['data_path'] + 'test_set.json', 'r') as f:\n",
    "    content = json.loads(f.read())\n",
    "\n",
    "total = 0\n",
    "true_tag1 = 0\n",
    "true_tag2 = 0\n",
    "true_tag3 = 0\n",
    "for id in content.keys():\n",
    "    total += 1\n",
    "    text = content[id]['text']\n",
    "    text = fixText(text)\n",
    "    tag1 = content[id]['tag_level_1']\n",
    "    tag2 = content[id]['tag_level_2']\n",
    "    tag3 = content[id]['tag_level_3']\n",
    "    predict1 = model_label1.predict(text)[0][0]\n",
    "    predict2 = model_label2.predict(text)[0][0]\n",
    "    predict3 = model_label3.predict(text)[0][0]\n",
    "    if(predict1.replace('__label__', '') == tag1):\n",
    "        true_tag1 += 1\n",
    "    if(predict2.replace('__label__', '') == tag2):\n",
    "        true_tag2 += 1\n",
    "    if(predict3.replace('__label__', '') == tag3):\n",
    "        true_tag3 += 1\n",
    "print('tag level 1 accurate: {}% ({}/{})'.format(true_tag1 * 100 / total, true_tag1, total))\n",
    "print('tag level 2 accurate: {}% ({}/{})'.format(true_tag2 * 100 / total, true_tag2, total))\n",
    "print('tag level 3 accurate: {}% ({}/{})'.format(true_tag3 * 100 / total, true_tag3, total))"
   ]
  },
  {
   "attachments": {},
   "cell_type": "markdown",
   "metadata": {},
   "source": [
    "标签数量"
   ]
  },
  {
   "cell_type": "code",
   "execution_count": 11,
   "metadata": {},
   "outputs": [
    {
     "name": "stdout",
     "output_type": "stream",
     "text": [
      "87\n",
      "451\n",
      "1171\n"
     ]
    }
   ],
   "source": [
    "print('tag 1 num: ', len(model_label1.labels))\n",
    "print('tag 2 num: ', len(model_label2.labels))\n",
    "print('tag 3 num: ', len(model_label3.labels))"
   ]
  }
 ],
 "metadata": {
  "kernelspec": {
   "display_name": "fasttext",
   "language": "python",
   "name": "python3"
  },
  "language_info": {
   "codemirror_mode": {
    "name": "ipython",
    "version": 3
   },
   "file_extension": ".py",
   "mimetype": "text/x-python",
   "name": "python",
   "nbconvert_exporter": "python",
   "pygments_lexer": "ipython3",
   "version": "3.9.16"
  },
  "orig_nbformat": 4,
  "vscode": {
   "interpreter": {
    "hash": "1bc2b68b967a6c1eec0fbf9231cc61d82eda98da8a03b4d84a642e01d693b4ff"
   }
  }
 },
 "nbformat": 4,
 "nbformat_minor": 2
}
