{
 "cells": [
  {
   "cell_type": "code",
   "execution_count": 1,
   "metadata": {},
   "outputs": [],
   "source": [
    "import fasttext\n",
    "import os\n",
    "import json\n",
    "from utils import fixText, resetLabelLv2, resetLabelLv3\n",
    "\n",
    "TEMP_DIR = './tmp/'\n",
    "\n",
    "def getConfig():\n",
    "    config = {}\n",
    "    with open('./config.json', 'r') as f:\n",
    "        s = f.read()\n",
    "        config = json.loads(s)\n",
    "    return config\n",
    "\n",
    "# 读入数据集的json文件，处理成fasttext接口使用的\"文本__label__标签\"形式，以txt文件存储\n",
    "def readDataSet(path):\n",
    "    with open(path, 'r') as f:\n",
    "        s = f.read()\n",
    "        data_set = json.loads(s)\n",
    "    set1 = []\n",
    "    set2 = []\n",
    "    set3 = []\n",
    "    for id in list(data_set.keys()):\n",
    "        set1.append('__label__' + data_set[id]['tag_level_1'] + ' ' + fixText(data_set[id]['text']))\n",
    "        set2.append('__label__' + resetLabelLv2(data_set[id]['tag_level_2']) + ' ' + fixText(data_set[id]['text']))\n",
    "        set3.append('__label__' + resetLabelLv3(data_set[id]['tag_level_3']) + ' ' + fixText(data_set[id]['text']))\n",
    "        \n",
    "    try:\n",
    "        os.mkdir(TEMP_DIR)\n",
    "    except:\n",
    "        pass\n",
    "    with open(TEMP_DIR + 'set1.txt', 'w') as f:\n",
    "        for l in set1:\n",
    "            f.write(l + '\\n')\n",
    "    with open(TEMP_DIR + 'set2.txt', 'w') as f:\n",
    "        for l in set2:\n",
    "            f.write(l + '\\n')\n",
    "    with open(TEMP_DIR + 'set3.txt', 'w') as f:\n",
    "        for l in set3:\n",
    "            f.write(l + '\\n')"
   ]
  },
  {
   "cell_type": "code",
   "execution_count": 2,
   "metadata": {},
   "outputs": [
    {
     "name": "stderr",
     "output_type": "stream",
     "text": [
      "Building prefix dict from the default dictionary ...\n",
      "Loading model from cache /tmp/jieba.cache\n",
      "Loading model cost 0.742 seconds.\n",
      "Prefix dict has been built successfully.\n",
      "Read 17M words\n",
      "Number of words:  233058\n",
      "Number of labels: 459\n",
      "Progress: 100.0% words/sec/thread:  128026 lr:  0.000000 avg.loss:  0.970484 ETA:   0h 0m 0s\n",
      "Read 17M words\n",
      "Number of words:  233069\n",
      "Number of labels: 970\n",
      "Progress: 100.0% words/sec/thread:   64089 lr:  0.000000 avg.loss:  1.827442 ETA:   0h 0m 0s\n"
     ]
    }
   ],
   "source": [
    "config = getConfig()\n",
    "readDataSet(config['data_path'] + config['data_set_name'])\n",
    "# model_label1 = fasttext.train_supervised(\n",
    "#     input = TEMP_DIR + '',\n",
    "#     lr = config['lr'],\n",
    "#     dim = config['hidden_dim'],\n",
    "#     epoch = config['epoch']\n",
    "# )\n",
    "model_label2 = fasttext.train_supervised(\n",
    "    input = TEMP_DIR + 'set2.txt',\n",
    "    lr = config['lr'],\n",
    "    dim = config['hidden_dim'],\n",
    "    epoch = config['epoch']\n",
    ")\n",
    "model_label3 = fasttext.train_supervised(\n",
    "    input = TEMP_DIR + 'set3.txt',\n",
    "    lr = config['lr'],\n",
    "    dim = config['hidden_dim'],\n",
    "    epoch = config['epoch']\n",
    ")\n",
    "\n",
    "try:\n",
    "    os.remove(TEMP_DIR + 'set1.txt')\n",
    "    os.remove(TEMP_DIR + 'set2.txt')\n",
    "    os.remove(TEMP_DIR + 'set3.txt')\n",
    "    os.removedirs(TEMP_DIR)  \n",
    "except:\n",
    "    pass"
   ]
  },
  {
   "cell_type": "code",
   "execution_count": 3,
   "metadata": {},
   "outputs": [
    {
     "name": "stdout",
     "output_type": "stream",
     "text": [
      "tag level 1 accurate: 0.0% (0/38330)\n",
      "tag level 2 accurate: 75.8022436733629% (29055/38330)\n",
      "tag level 3 accurate: 65.5778763370728% (25136/38330)\n"
     ]
    }
   ],
   "source": [
    "with open(config['data_path'] + 'test_set.json', 'r') as f:\n",
    "    content = json.loads(f.read())\n",
    "\n",
    "total = 0\n",
    "true_tag1 = 0\n",
    "true_tag2 = 0\n",
    "true_tag3 = 0\n",
    "for id in content.keys():\n",
    "    total += 1\n",
    "    text = content[id]['text']\n",
    "    text = fixText(text)\n",
    "    tag1 = content[id]['tag_level_1']\n",
    "    tag2 = resetLabelLv2(content[id]['tag_level_2'])\n",
    "    tag3 = resetLabelLv3(content[id]['tag_level_3'])\n",
    "    # predict1 = model_label1.predict(text)[0][0]\n",
    "    predict2 = model_label2.predict(text)[0][0]\n",
    "    predict3 = model_label3.predict(text)[0][0]\n",
    "    # if(predict1.replace('__label__', '') == tag1):\n",
    "    #     true_tag1 += 1\n",
    "    if(predict2.replace('__label__', '') == tag2):\n",
    "        true_tag2 += 1\n",
    "    if(predict3.replace('__label__', '') == tag3):\n",
    "        true_tag3 += 1\n",
    "print('tag level 1 accurate: {}% ({}/{})'.format(true_tag1 * 100 / total, true_tag1, total))\n",
    "print('tag level 2 accurate: {}% ({}/{})'.format(true_tag2 * 100 / total, true_tag2, total))\n",
    "print('tag level 3 accurate: {}% ({}/{})'.format(true_tag3 * 100 / total, true_tag3, total))"
   ]
  },
  {
   "attachments": {},
   "cell_type": "markdown",
   "metadata": {},
   "source": [
    "lr = 0.1 epoch = 25"
   ]
  },
  {
   "attachments": {},
   "cell_type": "markdown",
   "metadata": {},
   "source": [
    "标签数量"
   ]
  },
  {
   "cell_type": "code",
   "execution_count": 8,
   "metadata": {},
   "outputs": [
    {
     "name": "stdout",
     "output_type": "stream",
     "text": [
      "tag 2 num:  459\n",
      "tag 3 num:  970\n"
     ]
    }
   ],
   "source": [
    "# print('tag 1 num: ', len(model_label1.labels))\n",
    "print('tag 2 num: ', len(model_label2.labels))\n",
    "print('tag 3 num: ', len(model_label3.labels))"
   ]
  }
 ],
 "metadata": {
  "kernelspec": {
   "display_name": "pt-py3.9",
   "language": "python",
   "name": "python3"
  },
  "language_info": {
   "codemirror_mode": {
    "name": "ipython",
    "version": 3
   },
   "file_extension": ".py",
   "mimetype": "text/x-python",
   "name": "python",
   "nbconvert_exporter": "python",
   "pygments_lexer": "ipython3",
   "version": "3.9.16"
  },
  "orig_nbformat": 4,
  "vscode": {
   "interpreter": {
    "hash": "6f737a19b7090e33edbc76acd0a86580e3257e24fc38a119320c8b10678394dd"
   }
  }
 },
 "nbformat": 4,
 "nbformat_minor": 2
}
