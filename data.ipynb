{
 "cells": [
  {
   "attachments": {},
   "cell_type": "markdown",
   "metadata": {},
   "source": [
    "## 数据处理脚本"
   ]
  },
  {
   "cell_type": "code",
   "execution_count": 1,
   "metadata": {},
   "outputs": [],
   "source": [
    "import os\n",
    "import pandas as pd\n",
    "import json\n",
    "import numpy as np\n",
    "import random\n",
    "data_path = './data/'"
   ]
  },
  {
   "cell_type": "code",
   "execution_count": 2,
   "metadata": {},
   "outputs": [],
   "source": [
    "from data import preProcess\n",
    "total_item = {}\n",
    "for filename in os.listdir(data_path):\n",
    "    if(filename.lower().endswith('.xls') or filename.lower().endswith('xlsx')):\n",
    "        df = pd.read_excel(data_path + filename)\n",
    "        df.columns = [s.strip() for s in df.columns.tolist()]\n",
    "        for row in df.index.values:\n",
    "            id = str(df.loc[row, '工单编号'])\n",
    "            title = df.loc[row, '诉求标题']\n",
    "            if(not pd.isnull(df.loc[row, '市民原始诉求'])):\n",
    "                text = str(df.loc[row, '市民原始诉求'])\n",
    "            else:\n",
    "                text = ('' if pd.isnull(df.loc[row, '涉事主体']) else '涉事主体:' + str(df.loc[row, '涉事主体'])) + \\\n",
    "                    ('' if pd.isnull(df.loc[row, '主体地址']) else '主体地址:' + str(df.loc[row, '主体地址'])) + \\\n",
    "                    ('' if pd.isnull(df.loc[row, '事发地点']) else '事发地点:' + str(df.loc[row, '事发地点'])) + \\\n",
    "                    ('' if pd.isnull(df.loc[row, '标签组']) else '标签组:' + str(df.loc[row, '标签组'])) + \\\n",
    "                    ('' if pd.isnull(df.loc[row, '市民诉求']) else '市民诉求:' + str(df.loc[row, '市民诉求'])) + \\\n",
    "                    ('' if pd.isnull(df.loc[row, '补充信息']) else '补充信息:' + str(df.loc[row, '补充信息']))\n",
    "            text = preProcess(text)\n",
    "            tag_level_1 = 'undefine' if pd.isnull(df.loc[row, '办理部门一级']) else str(df.loc[row, '办理部门一级'])\n",
    "            tag_level_2 = 'undefine' if pd.isnull(df.loc[row, '办理部门二级']) else str(df.loc[row, '办理部门二级'])\n",
    "            tag_level_3 = 'undefine' if pd.isnull(df.loc[row, '办理部门三级']) else str(df.loc[row, '办理部门三级'])\n",
    "            total_item[str(id)] = {\n",
    "                'title': title,\n",
    "                'text': text,\n",
    "                'tag_level_1': tag_level_1,\n",
    "                'tag_level_2': tag_level_2,\n",
    "                'tag_level_3': tag_level_3\n",
    "            }\n",
    "ids = list(total_item.keys())\n",
    "random.shuffle(ids)\n",
    "train_item = {}\n",
    "for id in ids[:len(ids) * 4 // 5]:\n",
    "    train_item[id] = total_item[id]\n",
    "test_item = {}\n",
    "for id in ids[len(ids) * 4 // 5:]:\n",
    "    test_item[id] = total_item[id]\n",
    "\n",
    "mini_item = {}\n",
    "for id in ids[:200]:\n",
    "    mini_item[id] = total_item[id]\n",
    "\n",
    "del total_item"
   ]
  },
  {
   "cell_type": "code",
   "execution_count": 5,
   "metadata": {},
   "outputs": [
    {
     "name": "stdout",
     "output_type": "stream",
     "text": [
      "153320\n",
      "38330\n",
      "{'title': '反映网购及其他消费纠纷问题', 'text': '消费方式:网络购物\\n请选择要投诉的问题:其余网购纠纷\\n订单号:22102195401676\\n网购平台:唯品会\\n商家店铺/公司名称:唯品会贝尔旗舰店\\n商家店铺/公司地址:荔湾区,广州市荔湾区芳村花海街20号自编6号楼\\n商品/服务名称:商品\\n商品名称:生活消费用品\\n品牌名称:贝尔\\n消费时间:2022-10-25\\n消费金额（元）:68\\n商品数量:1\\n存在问题:用不到一个月短，皮子像是纸一样\\n与商家协商后的处理情况:要求退款，商家只赔15元\\n诉求:退货/退款\\n', 'tag_level_1': '荔湾区政府', 'tag_level_2': '荔湾区市场监管局', 'tag_level_3': '综合执法三大队'}\n"
     ]
    }
   ],
   "source": [
    "print(len(train_item))\n",
    "print(len(test_item))\n",
    "print(test_item[list(test_item.keys())[0]])"
   ]
  },
  {
   "cell_type": "code",
   "execution_count": 4,
   "metadata": {},
   "outputs": [],
   "source": [
    "with open(data_path + 'train_set.json', 'w') as f:\n",
    "    s = json.dumps(train_item)\n",
    "    f.write(s)\n",
    "with open(data_path + 'test_set.json', 'w') as f:\n",
    "    s = json.dumps(test_item)\n",
    "    f.write(s)"
   ]
  },
  {
   "cell_type": "code",
   "execution_count": 4,
   "metadata": {},
   "outputs": [],
   "source": [
    "with open(data_path + 'mini_set.json', 'w') as f:\n",
    "    s = json.dumps(mini_item)\n",
    "    f.write(s)"
   ]
  }
 ],
 "metadata": {
  "kernelspec": {
   "display_name": "pt-py3.9",
   "language": "python",
   "name": "python3"
  },
  "language_info": {
   "codemirror_mode": {
    "name": "ipython",
    "version": 3
   },
   "file_extension": ".py",
   "mimetype": "text/x-python",
   "name": "python",
   "nbconvert_exporter": "python",
   "pygments_lexer": "ipython3",
   "version": "3.9.16"
  },
  "orig_nbformat": 4,
  "vscode": {
   "interpreter": {
    "hash": "6f737a19b7090e33edbc76acd0a86580e3257e24fc38a119320c8b10678394dd"
   }
  }
 },
 "nbformat": 4,
 "nbformat_minor": 2
}
