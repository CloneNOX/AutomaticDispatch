{
 "cells": [
  {
   "attachments": {},
   "cell_type": "markdown",
   "metadata": {},
   "source": [
    "## 数据处理脚本"
   ]
  },
  {
   "cell_type": "code",
   "execution_count": 1,
   "metadata": {},
   "outputs": [],
   "source": [
    "import os\n",
    "import pandas as pd\n",
    "import json\n",
    "import numpy as np\n",
    "import random\n",
    "data_path = 'data/'"
   ]
  },
  {
   "cell_type": "code",
   "execution_count": 2,
   "metadata": {},
   "outputs": [
    {
     "name": "stdout",
     "output_type": "stream",
     "text": [
      "['0322111312025281001', '032210171222311780101', '0322120218220039501', '0822111616562776101', '0322052122265540801', '2922102719444996401', '2822103108551591301', '0322051414390750501', '0822083012171772701', '0322112921221249301']\n"
     ]
    }
   ],
   "source": [
    "from data import preProcess\n",
    "total_item = {}\n",
    "for filename in os.listdir(data_path):\n",
    "    if('.xls' not in filename):\n",
    "        continue\n",
    "    df = pd.read_excel(data_path + filename)\n",
    "    df.columns = [s.strip() for s in df.columns.tolist()]\n",
    "    for row in df.index.values:\n",
    "        id = str(df.loc[row, '工单编号'])\n",
    "        title = df.loc[row, '诉求标题']\n",
    "        if(not pd.isnull(df.loc[row, '市民原始诉求'])):\n",
    "            text = str(df.loc[row, '市民原始诉求'])\n",
    "        else:\n",
    "            text = ('' if pd.isnull(df.loc[row, '涉事主体']) else '涉事主体:' + str(df.loc[row, '涉事主体'])) + \\\n",
    "                   ('' if pd.isnull(df.loc[row, '主体地址']) else '主体地址:' + str(df.loc[row, '主体地址'])) + \\\n",
    "                   ('' if pd.isnull(df.loc[row, '事发地点']) else '事发地点:' + str(df.loc[row, '事发地点'])) + \\\n",
    "                   ('' if pd.isnull(df.loc[row, '标签组']) else '标签组:' + str(df.loc[row, '标签组'])) + \\\n",
    "                   ('' if pd.isnull(df.loc[row, '市民诉求']) else '市民诉求:' + str(df.loc[row, '市民诉求'])) + \\\n",
    "                   ('' if pd.isnull(df.loc[row, '补充信息']) else '补充信息:' + str(df.loc[row, '补充信息']))\n",
    "        text = preProcess(text)\n",
    "        tag_level_1 = df.loc[row, '办理部门一级']\n",
    "        tag_level_2 = df.loc[row, '办理部门二级']\n",
    "        tag_level_3 = df.loc[row, '办理部门三级']\n",
    "        total_item[str(id)] = {\n",
    "            'title': title,\n",
    "            'text': text,\n",
    "            'tag_level_1': tag_level_1,\n",
    "            'tag_level_2': tag_level_2,\n",
    "            'tag_level_3': tag_level_3\n",
    "        }\n",
    "ids = list(total_item.keys())\n",
    "random.shuffle(ids)\n",
    "print(ids[:10])\n",
    "train_item = {}\n",
    "for id in ids[:len(ids) * 4 // 5]:\n",
    "    train_item[id] = total_item[id]\n",
    "test_item = {}\n",
    "for id in ids[len(ids) * 4 // 5:]:\n",
    "    test_item[id] = total_item[id]\n",
    "\n",
    "mini_item = {}\n",
    "for id in ids[:200]:\n",
    "    mini_item[id] = total_item[id]\n",
    "\n",
    "del total_item"
   ]
  },
  {
   "cell_type": "code",
   "execution_count": 15,
   "metadata": {},
   "outputs": [
    {
     "name": "stdout",
     "output_type": "stream",
     "text": [
      "153320\n",
      "38330\n",
      "{'title': '反映人员管控问题', 'text': '问题类型:（其他影响公众健康的问题）\\n其他问题:逸彩社区居委人员防疫不作为\\n事发地址:荔湾区,广东省广州市荔湾区芳兴路逸彩新世界\\n具体情况描述:广州疫情未停，今天是石围塘全员核酸，逸彩新世界小区内设有核酸点，人数众多。验核酸队经过小区架空层的老年人活动区，里面在打麻将的老人大部分都不戴口罩，存在传播风险，不符合现时的防疫要求。为此，我向 逸彩社区党群服务中心 的工作人员反映情况。\\r\\n然而，一位女性工作人员跟我说，她们之前有去说过的，但他们不听。（就这解释？那就是说明知道有疫情风险，还是不去跟进，认为说过一次就是尽责了？）然后该工作人员继续跟我说:“我们说过了，要不你去说说他们吧”…哈？我作为居民向你社区居委反映了问题，你居然叫我自己去处理？ 这是什么工作态度？你在党群服务中心是负责搞笑的吗？如此不作为！而且该工作人员没有佩戴口罩！\\n希望相关部门如何处理:上级部门严肃教育批评 逸彩社区党群服务中心 工作人员的工作态度，严格落实各项防疫措施，加强工作人员自身素质。\\n', 'tag_level_1': '荔湾区政府', 'tag_level_2': '石围塘街道办事处', 'tag_level_3': '石围塘街公共服务办'}\n"
     ]
    }
   ],
   "source": [
    "print(len(train_item))\n",
    "print(len(test_item))\n",
    "print(test_item[list(test_item.keys())[0]])"
   ]
  },
  {
   "cell_type": "code",
   "execution_count": 18,
   "metadata": {},
   "outputs": [],
   "source": [
    "with open(data_path + 'train_set.json', 'w') as f:\n",
    "    s = json.dumps(train_item)\n",
    "    f.write(s)\n",
    "with open(data_path + 'test_set.json', 'w') as f:\n",
    "    s = json.dumps(test_item)\n",
    "    f.write(s)"
   ]
  },
  {
   "cell_type": "code",
   "execution_count": 3,
   "metadata": {},
   "outputs": [],
   "source": [
    "with open(data_path + 'mini_set.json', 'w') as f:\n",
    "    s = json.dumps(mini_item)\n",
    "    f.write(s)"
   ]
  },
  {
   "cell_type": "code",
   "execution_count": null,
   "metadata": {},
   "outputs": [],
   "source": []
  }
 ],
 "metadata": {
  "kernelspec": {
   "display_name": "pt-py3.9",
   "language": "python",
   "name": "python3"
  },
  "language_info": {
   "codemirror_mode": {
    "name": "ipython",
    "version": 3
   },
   "file_extension": ".py",
   "mimetype": "text/x-python",
   "name": "python",
   "nbconvert_exporter": "python",
   "pygments_lexer": "ipython3",
   "version": "3.9.16"
  },
  "orig_nbformat": 4,
  "vscode": {
   "interpreter": {
    "hash": "6f737a19b7090e33edbc76acd0a86580e3257e24fc38a119320c8b10678394dd"
   }
  }
 },
 "nbformat": 4,
 "nbformat_minor": 2
}
