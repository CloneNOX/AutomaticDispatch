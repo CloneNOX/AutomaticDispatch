{
 "cells": [
  {
   "attachments": {},
   "cell_type": "markdown",
   "metadata": {},
   "source": [
    "## 数据处理脚本"
   ]
  },
  {
   "cell_type": "code",
   "execution_count": 2,
   "metadata": {},
   "outputs": [],
   "source": [
    "import os\n",
    "import pandas as pd\n",
    "import json\n",
    "import numpy as np\n",
    "import random\n",
    "from copy import copy\n",
    "from tqdm import tqdm\n",
    "from data import preProcess\n",
    "import random\n",
    "data_path = 'data'"
   ]
  },
  {
   "cell_type": "code",
   "execution_count": 2,
   "metadata": {},
   "outputs": [
    {
     "name": "stdout",
     "output_type": "stream",
     "text": [
      "['末级', '一级', '二级', '三级', '四级', '五级', '六级']\n"
     ]
    },
    {
     "name": "stderr",
     "output_type": "stream",
     "text": [
      "100%|██████████| 1091/1091 [00:00<00:00, 10547.10it/s]"
     ]
    },
    {
     "name": "stdout",
     "output_type": "stream",
     "text": [
      "1074 其他\n",
      "['政风行风党风', '违法违纪', '其他']\n",
      "1090 其他\n",
      "['政风行风党风', '违法违纪', '其他']\n"
     ]
    },
    {
     "name": "stderr",
     "output_type": "stream",
     "text": [
      "\n"
     ]
    }
   ],
   "source": [
    "df = pd.read_excel(os.path.join(data_path, '事项分类.xlsx'), sheet_name='字典')\n",
    "print(df.columns.tolist())\n",
    "label_cols = ['一级', '二级', '三级', '四级', '五级', '六级']\n",
    "label_set = {}\n",
    "for row in tqdm(df.index.values):\n",
    "    last_label = str(df.loc[row, '末级'])\n",
    "    labels = []\n",
    "    for lv in label_cols:\n",
    "        if not pd.isnull(df.loc[row, lv]):\n",
    "            labels.append(str(df.loc[row, lv]))\n",
    "    if last_label in label_set:\n",
    "        print(row, last_label)\n",
    "        print(label_set[last_label])\n",
    "    else:\n",
    "        label_set[last_label] = labels"
   ]
  },
  {
   "cell_type": "code",
   "execution_count": null,
   "metadata": {},
   "outputs": [],
   "source": [
    "df1 = pd.read_excel(os.path.join(data_path, '2022底数.xlsx'), sheet_name='Sheet1')\n",
    "df2 = pd.read_excel(os.path.join(data_path, '2022底数.xlsx'), sheet_name='Sheet1(2)', names=df1.columns.tolist())\n",
    "df1.columns.tolist()"
   ]
  },
  {
   "cell_type": "code",
   "execution_count": null,
   "metadata": {},
   "outputs": [
    {
     "name": "stdout",
     "output_type": "stream",
     "text": [
      "1048575 302014\n",
      "1350589\n"
     ]
    }
   ],
   "source": [
    "df3 = df1.dropna(axis=0, how='all')\n",
    "df4 = df2.dropna(axis=0, how='all')\n",
    "print(len(df3), len(df4))\n",
    "df = pd.concat([df3, df4], ignore_index=True)\n",
    "print(len(df))"
   ]
  },
  {
   "cell_type": "code",
   "execution_count": 19,
   "metadata": {},
   "outputs": [],
   "source": [
    "class LabelTreeNode:\n",
    "    def __init__(self, label) -> None:\n",
    "        self.label = label\n",
    "        self.children = {}\n",
    "\n",
    "    def add_child(self, label):\n",
    "        if(label in list(self.children.keys())):\n",
    "            return\n",
    "        else:\n",
    "            self.children[label] = LabelTreeNode(label)\n",
    "\n",
    "    def get_child_by_label(self, label):\n",
    "        if label in list(self.children.keys()):\n",
    "            return self.children[label]\n",
    "        else:\n",
    "            return None\n",
    "        \n",
    "def dfs_write_label(cur_node: LabelTreeNode, cur_label, filestream):\n",
    "    cur_label += cur_node.label\n",
    "    filestream.write(cur_label + '\\n')\n",
    "    cur_label += '##'\n",
    "    for label in cur_node.children.keys():\n",
    "        dfs_write_label(cur_node.children[label], cur_label, filestream)\n",
    "\n",
    "def dfs_get_label(target, cur_node: LabelTreeNode, cur_label, label_list) -> bool:\n",
    "    cur_label += cur_node.label\n",
    "    if cur_node.label == target:\n",
    "        label_list.append(cur_label)\n",
    "        return True\n",
    "    \n",
    "    next_label = cur_label\n",
    "    next_label += '##'\n",
    "    \n",
    "    for label in cur_node.children.keys():\n",
    "        if dfs_get_label(target, cur_node.children[label], next_label, label_list):\n",
    "            label_list.append(cur_label)\n",
    "            return True\n",
    "    \n",
    "    return False\n",
    "    "
   ]
  },
  {
   "cell_type": "code",
   "execution_count": 7,
   "metadata": {},
   "outputs": [
    {
     "name": "stderr",
     "output_type": "stream",
     "text": [
      "100%|██████████| 1350589/1350589 [01:20<00:00, 16837.37it/s]\n"
     ]
    }
   ],
   "source": [
    "from config import config\n",
    "total_item = []\n",
    "label_tree = LabelTreeNode('root')\n",
    "max_sequnce_len = 0\n",
    "total_len = 0\n",
    "\n",
    "for row in tqdm(df.index.values):\n",
    "    id = str(df.loc[row, 'SERIALNUM'])\n",
    "    title = str(df.loc[row, '标题'])\n",
    "    text = preProcess('' if pd.isnull(df.loc[row, '内容']) else str(df.loc[row, '内容']))\n",
    "    max_sequnce_len = max(max_sequnce_len, len(text))\n",
    "    total_len += len(text)\n",
    "    \n",
    "    last_label = str(df.loc[row, 'ZEROLABEL'])\n",
    "    if last_label not in label_set:\n",
    "        continue\n",
    "    labels = label_set[last_label]\n",
    "    total_item.append({\n",
    "        'title': title,\n",
    "        'text': text,\n",
    "        'label': labels\n",
    "    })\n",
    "\n",
    "    curNode = label_tree\n",
    "    for label in labels:\n",
    "        curNode.add_child(label)\n",
    "        curNode = curNode.get_child_by_label(label)"
   ]
  },
  {
   "cell_type": "code",
   "execution_count": 12,
   "metadata": {},
   "outputs": [
    {
     "data": {
      "text/plain": [
       "dict_keys(['城乡建设', '劳动社保', '市场监管', '经济财贸', '其他', '农林牧渔', '交通运输', '公共安全', '公卫医疗', '民政社区', '政风行风党风', '科教文体', '自然资源与环境保护', '司法行政'])"
      ]
     },
     "execution_count": 12,
     "metadata": {},
     "output_type": "execute_result"
    }
   ],
   "source": [
    "label_tree.children.keys()"
   ]
  },
  {
   "cell_type": "code",
   "execution_count": 8,
   "metadata": {},
   "outputs": [
    {
     "name": "stdout",
     "output_type": "stream",
     "text": [
      "最大句子长度： 1418\n",
      "平均句子长度： 170.40746000448692\n"
     ]
    }
   ],
   "source": [
    "print('最大句子长度：', max_sequnce_len)\n",
    "print('平均句子长度：', total_len / len(df.index.values))"
   ]
  },
  {
   "cell_type": "code",
   "execution_count": 26,
   "metadata": {},
   "outputs": [
    {
     "name": "stdout",
     "output_type": "stream",
     "text": [
      "['公卫医疗', '公卫医疗##公共卫生', '公卫医疗##公共卫生##新冠']\n"
     ]
    }
   ],
   "source": [
    "label_list = []\n",
    "target = '新冠'\n",
    "for label in label_tree.children.keys():\n",
    "    if dfs_get_label(target, label_tree.children[label], '', label_list):\n",
    "        break\n",
    "label_list.reverse()\n",
    "print(label_list)"
   ]
  },
  {
   "cell_type": "code",
   "execution_count": 24,
   "metadata": {},
   "outputs": [],
   "source": [
    "# 写label.txt\n",
    "curNode = label_tree\n",
    "with open(os.path.join(config.path.data, 'label.txt'), 'w') as f:\n",
    "    for label in curNode.children.keys():\n",
    "        dfs_write_label(curNode.children[label], '', f)\n"
   ]
  },
  {
   "cell_type": "code",
   "execution_count": 29,
   "metadata": {},
   "outputs": [],
   "source": [
    "train_item = []\n",
    "dev_item = []\n",
    "test_item = []\n",
    "random.shuffle(total_item)"
   ]
  },
  {
   "cell_type": "code",
   "execution_count": 30,
   "metadata": {},
   "outputs": [
    {
     "name": "stdout",
     "output_type": "stream",
     "text": [
      "划分成 训练集-样本825836条，验证集-样本103230条\n"
     ]
    }
   ],
   "source": [
    "need_test_set = False\n",
    "if need_test_set:\n",
    "    train_item = total_item[:len(total_item) * 8 // 10]\n",
    "    dev_item = total_item[len(total_item) * 8 // 10: len(total_item) * 9 // 10]\n",
    "    test_item = total_item[len(total_item) * 9 // 10:]\n",
    "    print('划分成 训练集-样本{}条，验证集-样本{}条，测试集-样本{}条'.format(len(train_item), len(dev_item), len(test_item)))\n",
    "else:\n",
    "    train_item = total_item[:len(total_item) * 8 // 10]\n",
    "    dev_item = total_item[len(total_item) * 9 // 10:]\n",
    "    print('划分成 训练集-样本{}条，验证集-样本{}条'.format(len(train_item), len(dev_item)))"
   ]
  },
  {
   "cell_type": "code",
   "execution_count": 34,
   "metadata": {},
   "outputs": [
    {
     "name": "stderr",
     "output_type": "stream",
     "text": [
      "  0%|          | 978/825836 [00:00<02:51, 4814.94it/s]"
     ]
    },
    {
     "name": "stderr",
     "output_type": "stream",
     "text": [
      "100%|██████████| 825836/825836 [02:52<00:00, 4789.24it/s]\n"
     ]
    }
   ],
   "source": [
    "with open(os.path.join(config.path.data, 'train.txt'), 'w') as f:\n",
    "    for item in tqdm(train_item):\n",
    "        if item['text'] == '':\n",
    "            continue\n",
    "        f.write(item['title'] + ':' + item['text'] + '\\t')\n",
    "        label_list = []\n",
    "        target = item['label'][-1]\n",
    "        for label in label_tree.children.keys():\n",
    "            if dfs_get_label(target, label_tree.children[label], '', label_list):\n",
    "                break\n",
    "        label_list.reverse()\n",
    "        for label in label_list:\n",
    "            f.write(label + ('\\n' if label == label_list[-1] else ','))\n",
    "        f.write('\\n')\n"
   ]
  },
  {
   "cell_type": "code",
   "execution_count": 35,
   "metadata": {},
   "outputs": [
    {
     "name": "stderr",
     "output_type": "stream",
     "text": [
      "100%|██████████| 103230/103230 [00:21<00:00, 4770.96it/s]\n"
     ]
    }
   ],
   "source": [
    "\n",
    "with open(os.path.join(config.path.data, 'dev.txt'), 'w') as f:\n",
    "    for item in tqdm(dev_item):\n",
    "        if item['text'] == '':\n",
    "            continue\n",
    "        f.write(item['title'] + ':' + item['text'] + '\\t')\n",
    "        label_list = []\n",
    "        target = item['label'][-1]\n",
    "        for label in label_tree.children.keys():\n",
    "            if dfs_get_label(target, label_tree.children[label], '', label_list):\n",
    "                break\n",
    "        label_list.reverse()\n",
    "        for label in label_list:\n",
    "            f.write(label + ('\\n' if label == label_list[-1] else ','))\n"
   ]
  },
  {
   "cell_type": "code",
   "execution_count": null,
   "metadata": {},
   "outputs": [],
   "source": [
    "\n",
    "if need_test_set:\n",
    "    with open(os.path.join(config.path.data, 'test.txt'), 'w') as f:\n",
    "        for item in test_item:\n",
    "            if item['text'] == '':\n",
    "                continue\n",
    "            f.write(\n",
    "                item['title'] + item['text'] + '\\t' +\\\n",
    "                item['label_1'] + ',' + \\\n",
    "                item['label_1'] + '##' + item['label_2'] + ',' + \\\n",
    "                item['label_1'] + '##' + item['label_2'] + '##' + item['label_3'] + ',' + \\\n",
    "                item['label_1'] + '##' + item['label_2'] + '##' + item['label_3'] + '##' + item['label_4'] + '\\n'\n",
    "            )"
   ]
  },
  {
   "cell_type": "markdown",
   "metadata": {},
   "source": [
    "### 使用2023的数据生成测试集"
   ]
  },
  {
   "cell_type": "code",
   "execution_count": 4,
   "metadata": {},
   "outputs": [
    {
     "name": "stderr",
     "output_type": "stream",
     "text": [
      "100%|██████████| 865381/865381 [00:45<00:00, 19029.45it/s]\n"
     ]
    }
   ],
   "source": [
    "df = pd.read_excel(os.path.join(data_path, '2023样本0904.xlsx'))\n",
    "total_item = []\n",
    "max_sequnce_len = 0\n",
    "total_len = 0\n",
    "\n",
    "for row in tqdm(df.index.values):\n",
    "    id = str(df.loc[row, '工单编号'])\n",
    "    title = str(df.loc[row, '标题'])\n",
    "    text = preProcess('' if pd.isnull(df.loc[row, '内容']) else str(df.loc[row, '内容']))\n",
    "    max_sequnce_len = max(max_sequnce_len, len(text))\n",
    "    total_len += len(text)\n",
    "\n",
    "    total_item.append({\n",
    "        'id': id,\n",
    "        'title': title,\n",
    "        'text': text,\n",
    "        'ori_text': str(df.loc[row, '内容'])\n",
    "    })"
   ]
  },
  {
   "cell_type": "code",
   "execution_count": 5,
   "metadata": {},
   "outputs": [
    {
     "name": "stdout",
     "output_type": "stream",
     "text": [
      "最大句子长度： 2379\n",
      "平均句子长度： 169.9272540071945\n"
     ]
    }
   ],
   "source": [
    "print('最大句子长度：', max_sequnce_len)\n",
    "print('平均句子长度：', total_len / len(df.index.values))"
   ]
  },
  {
   "cell_type": "code",
   "execution_count": null,
   "metadata": {},
   "outputs": [],
   "source": [
    "with open('data/data.txt', 'w') as f:\n",
    "    for item in total_item:\n",
    "        if item['text'] == '':\n",
    "            continue\n",
    "        f.write(item['title'] + ':' + item['text'] + '\\n')"
   ]
  },
  {
   "cell_type": "code",
   "execution_count": 7,
   "metadata": {},
   "outputs": [],
   "source": [
    "ids = []\n",
    "titles = []\n",
    "ori_tests = []\n",
    "texts = []\n",
    "for item in total_item:\n",
    "    ids.append(item['id'])\n",
    "    titles.append(item['title'])\n",
    "    ori_tests.append(item['ori_text'])\n",
    "    texts.append(item['title'] + ':' + item['text'])\n",
    "df = pd.DataFrame({\n",
    "    '工单编号': ids,\n",
    "    '标题': titles,\n",
    "    '内容': ori_tests,\n",
    "    '处理后文本': texts \n",
    "})"
   ]
  },
  {
   "cell_type": "code",
   "execution_count": 9,
   "metadata": {},
   "outputs": [],
   "source": [
    "df.to_excel('./results/result2023.xlsx', index=None)"
   ]
  }
 ],
 "metadata": {
  "kernelspec": {
   "display_name": "pt-py3.9",
   "language": "python",
   "name": "python3"
  },
  "language_info": {
   "codemirror_mode": {
    "name": "ipython",
    "version": 3
   },
   "file_extension": ".py",
   "mimetype": "text/x-python",
   "name": "python",
   "nbconvert_exporter": "python",
   "pygments_lexer": "ipython3",
   "version": "3.9.16"
  },
  "orig_nbformat": 4,
  "vscode": {
   "interpreter": {
    "hash": "6f737a19b7090e33edbc76acd0a86580e3257e24fc38a119320c8b10678394dd"
   }
  }
 },
 "nbformat": 4,
 "nbformat_minor": 2
}
